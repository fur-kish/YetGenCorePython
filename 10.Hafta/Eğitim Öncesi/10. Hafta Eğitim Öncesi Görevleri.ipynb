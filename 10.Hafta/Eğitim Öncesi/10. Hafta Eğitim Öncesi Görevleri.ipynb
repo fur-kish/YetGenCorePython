{
 "cells": [
  {
   "attachments": {},
   "cell_type": "markdown",
   "metadata": {},
   "source": [
    "# Problem 1"
   ]
  },
  {
   "cell_type": "code",
   "execution_count": 9,
   "metadata": {},
   "outputs": [
    {
     "name": "stdout",
     "output_type": "stream",
     "text": [
      "[ 2  6  2 10  5]\n",
      "(5,)\n",
      "[[ 2]\n",
      " [ 6]\n",
      " [ 2]\n",
      " [10]\n",
      " [ 5]]\n",
      "1\n"
     ]
    }
   ],
   "source": [
    "# 1 - numpy kütüphanesini import edin\n",
    "import numpy as np\n",
    "\n",
    "# 2 - 0 ile 10 arasında 5 sayıdan oluşan matris üretin\n",
    "matris = np.random.randint(0,11,size=5)\n",
    "print(matris)\n",
    "\n",
    "# 3 - matris'in boyutunu öğrenin\n",
    "print(matris.shape)\n",
    "\n",
    "# 4 - matris'i yeniden boyutlandırın\n",
    "print(matris.reshape((5,1)))\n",
    "\n",
    "# 5 - matris'in boyut sayısını öğrenin\n",
    "print(matris.ndim)\n"
   ]
  },
  {
   "attachments": {},
   "cell_type": "markdown",
   "metadata": {},
   "source": [
    "# Problem 2"
   ]
  },
  {
   "cell_type": "code",
   "execution_count": 24,
   "metadata": {},
   "outputs": [
    {
     "name": "stdout",
     "output_type": "stream",
     "text": [
      "[1 3 5 7 9]\n",
      "[array([1, 3, 5]), array([7, 9])]\n",
      "[1 3 5 7 9]\n"
     ]
    }
   ],
   "source": [
    "# 1 - 0 ile 10 arasında bulunan tek sayılardan oluşan matris üretin\n",
    "matris_2 = np.arange(1,10,2)\n",
    "print(matris_2)\n",
    "\n",
    "# 2 - Oluşturduğunuz matrisi parçalayın\n",
    "parcali = np.array_split(matris_2, 2)\n",
    "print(parcali)\n",
    "\n",
    "# 3 - Parçalanmış matrisleri birleştirin\n",
    "birlesik = np.concatenate(parcali)\n",
    "print(birlesik)\n"
   ]
  },
  {
   "attachments": {},
   "cell_type": "markdown",
   "metadata": {},
   "source": [
    "# Problem 3"
   ]
  },
  {
   "cell_type": "code",
   "execution_count": 27,
   "metadata": {},
   "outputs": [
    {
     "name": "stdout",
     "output_type": "stream",
     "text": [
      "[17 63 87 97 19 83 37  7 77  5]\n",
      "Boyut (shape): (10,)\n",
      "Boyut sayısı (ndim): 1\n",
      "Eleman sayısı (size): 10\n",
      "Veri tipi (dtype): int64\n"
     ]
    }
   ],
   "source": [
    "# 1 - 5 ile 100 arasında ikişer ikişer atlayarak rastgele 10 sayıdan oluşan matris üretin\n",
    "matrix = np.random.choice(np.arange(5, 101, 2), 10, replace=False)\n",
    "print(matrix)\n",
    "\n",
    "# 2 - matris'in özelliklerini inceleyin\n",
    "print(\"Boyut (shape):\", matrix.shape)\n",
    "print(\"Boyut sayısı (ndim):\", matrix.ndim)\n",
    "print(\"Eleman sayısı (size):\", matrix.size)\n",
    "print(\"Veri tipi (dtype):\", matrix.dtype)\n"
   ]
  }
 ],
 "metadata": {
  "kernelspec": {
   "display_name": "Python 3",
   "language": "python",
   "name": "python3"
  },
  "language_info": {
   "codemirror_mode": {
    "name": "ipython",
    "version": 3
   },
   "file_extension": ".py",
   "mimetype": "text/x-python",
   "name": "python",
   "nbconvert_exporter": "python",
   "pygments_lexer": "ipython3",
   "version": "3.12.3"
  },
  "orig_nbformat": 4,
  "vscode": {
   "interpreter": {
    "hash": "5026d2d6e7aaaaba093def813beadff083d8733e4a511af01735cbabd156995d"
   }
  }
 },
 "nbformat": 4,
 "nbformat_minor": 2
}
