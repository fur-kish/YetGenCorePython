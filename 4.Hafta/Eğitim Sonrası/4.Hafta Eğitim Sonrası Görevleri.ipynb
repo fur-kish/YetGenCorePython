{
 "cells": [
  {
   "cell_type": "markdown",
   "metadata": {},
   "source": [
    "# Problem 1\n",
    "`ogrenciler` adında bir sözlük oluşturunuz. Kullanıcıdan döngü yardımıyla 3 öğrenci için veri girmesini isteyerek öğrencilerin sırasıyla okul numarası, isim, soy isim, telefon numarası ve doğum tarihi bilgilerini alınız. Aldığınız öğrenci bilgilerini yine aynı döngü yardımıyla `ogrenciler` adındaki sözlükte saklayınız. Daha sonra öğrenci bilgilerinin bulunduğu sözlük yapısını ekrana bastırınız.\n",
    "\n"
   ]
  },
  {
   "cell_type": "code",
   "execution_count": 15,
   "metadata": {},
   "outputs": [
    {
     "name": "stdout",
     "output_type": "stream",
     "text": [
      "okul numarası: 1 , isim: 1 , soy isim: 1 , telefon numarası: 1 , doğum tarihi: 1\n",
      "okul numarası: 1 , isim: 1 , soy isim: 1 , telefon numarası: 1 , doğum tarihi: 1\n",
      "okul numarası: 1 , isim: 1 , soy isim: 1 , telefon numarası: 1 , doğum tarihi: 1\n"
     ]
    }
   ],
   "source": [
    "ogrencilerBos = []\n",
    "\n",
    "\n",
    "for i in range(3):\n",
    "    girdi1 = input(\"Öğrencinin okul numarasını giriniz: \")\n",
    "    girdi2 = input(\"Öğrencinin ismini giriniz: \")\n",
    "    girdi3 = input(\"Öğrencinin soy ismini giriniz: \")\n",
    "    girdi4 = input(\"Öğrencinin telefon numarasını giriniz: \")\n",
    "    girdi5 = input(\"Öğrencinin doğum tarihini giriniz: \")\n",
    "\n",
    "    ogrenciler = {\"Okul numarası\": girdi1, \"İsim\": girdi2, \"Soy isim\": girdi3, \"Telefon numarası\": girdi4, \"Doğum tarihi\": girdi5}\n",
    "\n",
    "    ogrencilerBos.append(ogrenciler)\n",
    "\n",
    "for ogrenci in ogrencilerBos:\n",
    "    print(f\"okul numarası: {ogrenci['Okul numarası']} , isim: {ogrenci['İsim']} , soy isim: {ogrenci['Soy isim']} , telefon numarası: {ogrenci['Telefon numarası']} , doğum tarihi: {ogrenci['Doğum tarihi']}\")\n"
   ]
  },
  {
   "cell_type": "markdown",
   "metadata": {},
   "source": [
    "# Problem 2\n",
    "\n",
    "### a - Biraz ısınarak başlayalım!\n",
    "\n",
    "```\n",
    "numbers = [5,10,10,15,15,15,20,20,20,20]\n",
    "```\n",
    "\n",
    "Yukarıda `numbers` adında 10 elemanlı bir liste verilmiştir. Bu listenin her elemanını kontrol eden ve tekrar eden elemanları bir kez olacak şekilde başka bir listeye kopyalayan bir program yazınız. Son olarak oluşturduğunuz listeyi ekrana bastırınız.\n",
    "\n",
    "\n",
    "\n",
    "\n",
    "```\n",
    ">Output\n",
    "[5, 10, 15, 20]\n",
    "```\n"
   ]
  },
  {
   "cell_type": "code",
   "execution_count": 27,
   "metadata": {},
   "outputs": [
    {
     "name": "stdout",
     "output_type": "stream",
     "text": [
      "[5, 10, 15, 20]\n"
     ]
    }
   ],
   "source": [
    "kontrolListesi = []\n",
    "numbers = [5, 10, 10, 15, 15, 15, 20, 20, 20, 20]\n",
    "\n",
    "for number in numbers:\n",
    "    if number not in kontrolListesi:\n",
    "        kontrolListesi.append(number)\n",
    "\n",
    "print(kontrolListesi)"
   ]
  },
  {
   "cell_type": "markdown",
   "metadata": {},
   "source": [
    "### 🌶️ b) Hadi işi biraz daha zorlaştıralım! \n",
    "\n",
    "\n",
    "Şimdiyse senden `numbers` isimli listedeki tekrar eden elemanları `repeatNumbers` adındaki listeye; tekrar etmeyen elemanları `uniqueNumbers`adındaki listeye kopyalayan yazmanı ve listeleri ekrana bastırmanı bekliyoruz\n",
    "\n",
    "```\n",
    ">Output\n",
    "Tekrar Eden Elemanlar: [10, 10, 15, 15, 15, 20, 20, 20, 20]\n",
    "Tekrar Etmeyen Elemanlar: [5]\n",
    "```"
   ]
  },
  {
   "cell_type": "code",
   "execution_count": 28,
   "metadata": {},
   "outputs": [
    {
     "name": "stdout",
     "output_type": "stream",
     "text": [
      "Tekrar Eden Elemanlar: [10, 10, 15, 15, 15, 20, 20, 20, 20]\n",
      "Tekrar Etmeyen Elemanlar: [5]\n"
     ]
    }
   ],
   "source": [
    "numbers = [5, 10, 10, 15, 15, 15, 20, 20, 20, 20]\n",
    "\n",
    "repeatNumbers = []\n",
    "uniqueNumbers = []\n",
    "\n",
    "for number in numbers:\n",
    "    if numbers.count(number) > 1:\n",
    "        repeatNumbers.append(number)\n",
    "    else:\n",
    "        uniqueNumbers.append(number)\n",
    "\n",
    "print(\"Tekrar Eden Elemanlar:\", repeatNumbers)\n",
    "print(\"Tekrar Etmeyen Elemanlar:\", uniqueNumbers)"
   ]
  },
  {
   "cell_type": "markdown",
   "metadata": {},
   "source": [
    "# Problem 3\n",
    "sn1 = {1,2,3,4,5}\n",
    "\n",
    "sn2 = {4,5,6,7,8}\n",
    "\n",
    " Verilen 2 adet küme için kesişimlerini, farklarını ve birleşimlerini bulunuz. "
   ]
  },
  {
   "cell_type": "code",
   "execution_count": 19,
   "metadata": {},
   "outputs": [
    {
     "name": "stdout",
     "output_type": "stream",
     "text": [
      "Kesişim: {4, 5}\n",
      "sn1'den sn2'den farkı: {1, 2, 3}\n",
      "sn2'nin sn1'den farkı: {8, 6, 7}\n",
      "Birleşim: {1, 2, 3, 4, 5, 6, 7, 8}\n"
     ]
    }
   ],
   "source": [
    "sn1 = {1,2,3,4,5}\n",
    "sn2 = {4,5,6,7,8}\n",
    "\n",
    "Kesisim = sn1.intersection(sn2)\n",
    "print(f\"Kesişim: {Kesisim}\")\n",
    "\n",
    "fark_sn1_sn2 = sn1.difference(sn2)\n",
    "print(f\"sn1'den sn2'den farkı: {fark_sn1_sn2}\")\n",
    "\n",
    "fark_sn2_sn1 = sn2.difference(sn1)\n",
    "print(f\"sn2'nin sn1'den farkı: {fark_sn2_sn1}\")\n",
    "\n",
    "Birlesim = sn1.union(sn2)\n",
    "print(f\"Birleşim: {Birlesim}\")"
   ]
  },
  {
   "cell_type": "markdown",
   "metadata": {},
   "source": [
    "# Problem 4\n",
    "\n",
    "Buradaki işlemlerimizin tamamı stringler içindir. Aşağıda verilecek olan metodlar için kendinizin örnek yaratması gerekmektedir. \n",
    "\n",
    "Örneğin `upper` için `string` değişkeni oluştururken` k = \"BAC\"` şeklinde oluşturmayınız. Bunun yerine k değişkenini `k = \"bac`\" şeklinde oluşturmanız `upper` metodundaki değişimi görebilmeniz için daha iyi olacaktır.\n",
    "\n",
    "Bütün metodlardaki değişimin gözle görülür şekilde değişimi beklenmektedir.\n",
    "\n",
    "\n",
    "1- capitalize(), lower(), upper(), swapcase(), title(), replace()\n",
    "\n",
    "2- endswith(), startswith(), find(), index(), count()\n",
    "\n",
    "3- split(), strip(), join(), islower(), isalpha(), isdigit()\n",
    "\n",
    "\n",
    "Yukarıdaki `string` metodlarındaki değişimleri görebildiğimiz bir program yazınız.\n"
   ]
  },
  {
   "cell_type": "code",
   "execution_count": 69,
   "metadata": {},
   "outputs": [
    {
     "name": "stdout",
     "output_type": "stream",
     "text": [
      "capitalalize: Yetkin gencler\n",
      "lower: yetkin gencler\n",
      "upper: YETKIN GENCLER\n",
      "swapcase: YETKIN gENCLER\n",
      "title: Yetkin Gencler\n",
      "replace: yetkin Gencler\n",
      "endswith False\n",
      "startswith: True\n",
      "find: 7\n",
      "index: 7\n",
      "count: 3\n",
      "split: ['yetkin', 'Gencler']\n",
      "strip: yetkin Gencler\n",
      "join: yetkinyetkin GenclerGencler\n",
      "islower: False\n",
      "isalpha: False\n",
      "isdigit: False\n"
     ]
    }
   ],
   "source": [
    "k = \"yetkin Gencler\"\n",
    "\n",
    "print(\"capitalalize:\" , k.capitalize())\n",
    "print(\"lower:\", k.lower())\n",
    "print(\"upper:\" , k.upper())\n",
    "print(\"swapcase:\" , k.swapcase())\n",
    "print(\"title:\" , k.title())\n",
    "print(\"replace:\" , k.replace(\"yetGen\" , \"corePython\"))\n",
    "\n",
    "#\n",
    "\n",
    "print(\"endswith\" , k.endswith(\"gencler\"))\n",
    "print(\"startswith:\" , k.startswith(\"yetkin\"))\n",
    "print(\"find:\" , k.find(\"Gencler\"))\n",
    "print(\"index:\" , k.index(\"Gencler\"))\n",
    "print(\"count:\" , k.count(\"e\"))\n",
    "\n",
    "#\n",
    "\n",
    "print(\"split:\" , k.split())\n",
    "print(\"strip:\" , k.strip())\n",
    "print(\"join:\" , k.join(a))\n",
    "print(\"islower:\" , k.islower())\n",
    "print(\"isalpha:\" , k.isalpha())\n",
    "print(\"isdigit:\" , k.isdigit())"
   ]
  }
 ],
 "metadata": {
  "kernelspec": {
   "display_name": "Python 3.10.5 64-bit",
   "language": "python",
   "name": "python3"
  },
  "language_info": {
   "codemirror_mode": {
    "name": "ipython",
    "version": 3
   },
   "file_extension": ".py",
   "mimetype": "text/x-python",
   "name": "python",
   "nbconvert_exporter": "python",
   "pygments_lexer": "ipython3",
   "version": "3.12.3"
  },
  "orig_nbformat": 4,
  "vscode": {
   "interpreter": {
    "hash": "5026d2d6e7aaaaba093def813beadff083d8733e4a511af01735cbabd156995d"
   }
  }
 },
 "nbformat": 4,
 "nbformat_minor": 2
}
